{
 "cells": [
  {
   "cell_type": "code",
   "execution_count": 18,
   "id": "e49b4e7b-7213-48a6-a836-41291a743396",
   "metadata": {},
   "outputs": [],
   "source": [
    "#PYTHON BASIC VARIABLE\n",
    "#1.Swaping two integers without using temporary varibles\n",
    "x,y  = 3, 4"
   ]
  },
  {
   "cell_type": "code",
   "execution_count": 8,
   "id": "6e678ad4-c863-48be-9ae2-2a6ec10b13f0",
   "metadata": {},
   "outputs": [
    {
     "data": {
      "text/plain": [
       "3"
      ]
     },
     "execution_count": 8,
     "metadata": {},
     "output_type": "execute_result"
    }
   ],
   "source": [
    "x         "
   ]
  },
  {
   "cell_type": "code",
   "execution_count": 3,
   "id": "b2ccb0b2-1cdb-4a0c-b5b8-be746b0e5a7f",
   "metadata": {},
   "outputs": [
    {
     "data": {
      "text/plain": [
       "4"
      ]
     },
     "execution_count": 3,
     "metadata": {},
     "output_type": "execute_result"
    }
   ],
   "source": [
    "y"
   ]
  },
  {
   "cell_type": "code",
   "execution_count": 4,
   "id": "9e7fe174-ad05-4890-a16f-9ed15d4d7e15",
   "metadata": {},
   "outputs": [],
   "source": [
    "x = x+y\n",
    "y =  x - y \n",
    "x = x - y"
   ]
  },
  {
   "cell_type": "code",
   "execution_count": 5,
   "id": "12495bce-81da-429a-9693-a902eba89c58",
   "metadata": {},
   "outputs": [
    {
     "data": {
      "text/plain": [
       "4"
      ]
     },
     "execution_count": 5,
     "metadata": {},
     "output_type": "execute_result"
    }
   ],
   "source": [
    "x"
   ]
  },
  {
   "cell_type": "code",
   "execution_count": 6,
   "id": "15adac6a-cbb3-4978-9976-3f758865e619",
   "metadata": {},
   "outputs": [
    {
     "data": {
      "text/plain": [
       "3"
      ]
     },
     "execution_count": 6,
     "metadata": {},
     "output_type": "execute_result"
    }
   ],
   "source": [
    "y"
   ]
  },
  {
   "cell_type": "code",
   "execution_count": 9,
   "id": "08fae99f-ae7e-4739-8723-35b76ca77bd3",
   "metadata": {},
   "outputs": [],
   "source": [
    "#2.Area of rectangle "
   ]
  },
  {
   "cell_type": "code",
   "execution_count": 11,
   "id": "6a35c53f-aaad-4562-9003-8436804b3e9f",
   "metadata": {},
   "outputs": [
    {
     "name": "stdin",
     "output_type": "stream",
     "text": [
      "enter the length of rectangle 10\n",
      "enter the width of rectangle 4\n"
     ]
    }
   ],
   "source": [
    "len  = int(input(\"enter the length of rectangle\"))\n",
    "wid  = int(input(\"enter the width of rectangle\"))"
   ]
  },
  {
   "cell_type": "code",
   "execution_count": 14,
   "id": "fd3801a0-a161-40c8-aeba-0b6b25586243",
   "metadata": {},
   "outputs": [
    {
     "name": "stdout",
     "output_type": "stream",
     "text": [
      "area of rectangle :40 \n"
     ]
    }
   ],
   "source": [
    "area = len * wid \n",
    "print(f\"area of rectangle :{area} \")"
   ]
  },
  {
   "cell_type": "code",
   "execution_count": 15,
   "id": "96ff8cb4-1c82-4fa8-854d-fcf2d8d832f9",
   "metadata": {},
   "outputs": [],
   "source": [
    "#3.Celcius to fahrenheit"
   ]
  },
  {
   "cell_type": "code",
   "execution_count": 16,
   "id": "3e660b7c-6200-43b6-9661-60024def1355",
   "metadata": {},
   "outputs": [
    {
     "name": "stdin",
     "output_type": "stream",
     "text": [
      "enter the celcius value 32\n"
     ]
    }
   ],
   "source": [
    "cel  = float(input(\"enter the celcius value\"))"
   ]
  },
  {
   "cell_type": "code",
   "execution_count": 17,
   "id": "ad30da97-2806-4985-b92e-12ddbbe37584",
   "metadata": {},
   "outputs": [
    {
     "name": "stdout",
     "output_type": "stream",
     "text": [
      "the fahrenheit value of above celcius value is : 89.6\n"
     ]
    }
   ],
   "source": [
    "far = cel * (9/5) + 32 \n",
    "print(f\"the fahrenheit value of above celcius value is : {far}\")"
   ]
  },
  {
   "cell_type": "code",
   "execution_count": 19,
   "id": "fa303f3d-d9c3-4d29-94e9-2620c2c46fad",
   "metadata": {},
   "outputs": [],
   "source": [
    "#STRING BASED QUESTIONS\n",
    "#1.length of the string"
   ]
  },
  {
   "cell_type": "code",
   "execution_count": 1,
   "id": "e3f59169-6582-4d61-ae26-e8e4db10b9de",
   "metadata": {},
   "outputs": [
    {
     "name": "stdin",
     "output_type": "stream",
     "text": [
      "enter the string saketranjan\n"
     ]
    }
   ],
   "source": [
    "str = input(\"enter the string\")"
   ]
  },
  {
   "cell_type": "code",
   "execution_count": 3,
   "id": "e05bcbc3-26a2-4a04-ba9b-afbc4ffeb228",
   "metadata": {},
   "outputs": [
    {
     "name": "stdout",
     "output_type": "stream",
     "text": [
      "the length of string is : 11\n"
     ]
    }
   ],
   "source": [
    "print(f\"the length of string is : {len(str)}\")"
   ]
  },
  {
   "cell_type": "code",
   "execution_count": 5,
   "id": "84992420-893f-4010-8503-ce5e67e55a23",
   "metadata": {},
   "outputs": [],
   "source": [
    "#2.Counting vowels in the string"
   ]
  },
  {
   "cell_type": "code",
   "execution_count": 6,
   "id": "f4d8a058-04cf-4c72-9100-c779ea3a45c5",
   "metadata": {},
   "outputs": [
    {
     "name": "stdin",
     "output_type": "stream",
     "text": [
      "enter the string saketranjan\n"
     ]
    }
   ],
   "source": [
    "str  = input(\"enter the string\")"
   ]
  },
  {
   "cell_type": "code",
   "execution_count": 14,
   "id": "56851f68-64dd-4ea7-a872-78fd68dc5766",
   "metadata": {},
   "outputs": [
    {
     "name": "stdout",
     "output_type": "stream",
     "text": [
      "the total number of vowels in the string is : 4\n"
     ]
    }
   ],
   "source": [
    "count = 0\n",
    "for ch in str:\n",
    "    if(ch == 'a' or ch == 'e' or ch == 'i' or ch == 'o' or ch == 'u' or ch == 'A' or ch == 'E' or ch == 'I' or ch == 'O' or ch == 'U'):\n",
    "      count = count +1\n",
    "print(f\"the total number of vowels in the string is : {count}\")    "
   ]
  },
  {
   "cell_type": "code",
   "execution_count": 16,
   "id": "8ab3e427-dcf3-4d47-b02a-48b8b2175cf3",
   "metadata": {},
   "outputs": [],
   "source": [
    "#3.reversed string using  slicing"
   ]
  },
  {
   "cell_type": "code",
   "execution_count": 19,
   "id": "e5a64cc9-46aa-46a1-aac8-c0d6bdfd6a07",
   "metadata": {},
   "outputs": [
    {
     "name": "stdin",
     "output_type": "stream",
     "text": [
      "enter the string:  my name is saket\n"
     ]
    }
   ],
   "source": [
    "str = input(\"enter the string: \")"
   ]
  },
  {
   "cell_type": "code",
   "execution_count": 20,
   "id": "3657e2bc-a41c-4006-abe0-1f4695d57e75",
   "metadata": {},
   "outputs": [
    {
     "name": "stdout",
     "output_type": "stream",
     "text": [
      "reversed string : tekas si eman ym\n"
     ]
    }
   ],
   "source": [
    "print(f\"reversed string : {str[::-1]}\")"
   ]
  },
  {
   "cell_type": "code",
   "execution_count": 21,
   "id": "cdbef359-bcc2-4cc1-a8d3-a454a5ea9f54",
   "metadata": {},
   "outputs": [],
   "source": [
    "#4.To check string is palindrome or not"
   ]
  },
  {
   "cell_type": "code",
   "execution_count": 30,
   "id": "51daae6e-7c35-4ade-8b3e-cd0c54f858f2",
   "metadata": {},
   "outputs": [
    {
     "name": "stdin",
     "output_type": "stream",
     "text": [
      "enter the string:  madam\n"
     ]
    }
   ],
   "source": [
    "str1 = input(\"enter the string: \")"
   ]
  },
  {
   "cell_type": "code",
   "execution_count": 31,
   "id": "8456125d-06ff-42e5-b1ea-c40cd73d9778",
   "metadata": {},
   "outputs": [],
   "source": [
    "str2 = str1[::-1]"
   ]
  },
  {
   "cell_type": "code",
   "execution_count": 32,
   "id": "47250862-e5f9-4541-9897-692fb170050d",
   "metadata": {},
   "outputs": [
    {
     "name": "stdout",
     "output_type": "stream",
     "text": [
      "the reversed string is : madam\n"
     ]
    }
   ],
   "source": [
    "print(f\"the reversed string is : {str2}\")"
   ]
  },
  {
   "cell_type": "code",
   "execution_count": 33,
   "id": "070668b0-071a-4583-aa32-03f7ad71ba33",
   "metadata": {},
   "outputs": [
    {
     "name": "stdout",
     "output_type": "stream",
     "text": [
      "palindrome\n"
     ]
    }
   ],
   "source": [
    "if str1 == str2:\n",
    "    print(\"palindrome\")\n",
    "else:\n",
    "    print(\"not palindrome\")"
   ]
  },
  {
   "cell_type": "code",
   "execution_count": 35,
   "id": "cac0f0ab-3f1d-4c7a-9930-d36f2f145b17",
   "metadata": {},
   "outputs": [],
   "source": [
    "#5.Removing whitespaces from the string"
   ]
  },
  {
   "cell_type": "code",
   "execution_count": 37,
   "id": "bd72da97-dcee-457d-ae7f-3ea4a6c3f5ab",
   "metadata": {},
   "outputs": [
    {
     "name": "stdin",
     "output_type": "stream",
     "text": [
      "enter the whitespaces contsining string:  saket ranjan is good boy\n"
     ]
    }
   ],
   "source": [
    "str3  = input(\"enter the whitespaces containing string: \") "
   ]
  },
  {
   "cell_type": "code",
   "execution_count": null,
   "id": "d8a519a1-0ba8-48ef-ba3b-52beed425800",
   "metadata": {},
   "outputs": [],
   "source": [
    "for ch in str3:\n",
    "    if(ch == \" \"):\n",
    "        "
   ]
  }
 ],
 "metadata": {
  "kernelspec": {
   "display_name": "Python 3 (ipykernel)",
   "language": "python",
   "name": "python3"
  },
  "language_info": {
   "codemirror_mode": {
    "name": "ipython",
    "version": 3
   },
   "file_extension": ".py",
   "mimetype": "text/x-python",
   "name": "python",
   "nbconvert_exporter": "python",
   "pygments_lexer": "ipython3",
   "version": "3.10.8"
  }
 },
 "nbformat": 4,
 "nbformat_minor": 5
}
